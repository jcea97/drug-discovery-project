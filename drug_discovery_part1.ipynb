{
  "nbformat": 4,
  "nbformat_minor": 0,
  "metadata": {
    "colab": {
      "provenance": []
    },
    "kernelspec": {
      "name": "python3",
      "display_name": "Python 3"
    },
    "language_info": {
      "name": "python"
    }
  },
  "cells": [
    {
      "cell_type": "code",
      "execution_count": 7,
      "metadata": {
        "colab": {
          "base_uri": "https://localhost:8080/"
        },
        "id": "vu0-k1_EeBLz",
        "outputId": "13a0ad1a-49aa-4859-f311-7b606a6b3087"
      },
      "outputs": [
        {
          "output_type": "stream",
          "name": "stdout",
          "text": [
            "Introduce tu token de GitHub:··········\n",
            "Cloning into 'drug-discovery-project'...\n",
            "warning: You appear to have cloned an empty repository.\n"
          ]
        }
      ],
      "source": [
        "from getpass import getpass\n",
        "\n",
        "# Pide el token de GitHub\n",
        "token = getpass('Introduce tu token de GitHub:')\n",
        "\n",
        "# Incluye el token en la URL del repositorio\n",
        "repo_url = f\"https://{token}@github.com/jcea97/drug-discovery-project.git\"\n",
        "\n",
        "# Clona el repositorio\n",
        "!git clone {repo_url}\n"
      ]
    },
    {
      "cell_type": "markdown",
      "source": [
        "# **Computational Drug Discovery [Part 1] Download Bioactivity Data**"
      ],
      "metadata": {
        "id": "mZs3u6gbfW_8"
      }
    },
    {
      "cell_type": "markdown",
      "source": [
        "Jesús Cea García"
      ],
      "metadata": {
        "id": "-xB9a3XdfsXy"
      }
    },
    {
      "cell_type": "code",
      "source": [],
      "metadata": {
        "id": "2Nroo5zNej7P"
      },
      "execution_count": null,
      "outputs": []
    },
    {
      "cell_type": "code",
      "source": [],
      "metadata": {
        "id": "p0VUODwGfmKa"
      },
      "execution_count": null,
      "outputs": []
    }
  ]
}